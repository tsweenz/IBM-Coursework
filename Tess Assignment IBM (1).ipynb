{
 "cells": [
  {
   "cell_type": "markdown",
   "metadata": {},
   "source": [
    "<center>\n",
    "    <img src=\"https://cf-courses-data.s3.us.cloud-object-storage.appdomain.cloud/IBMDeveloperSkillsNetwork-DS0105EN-SkillsNetwork/labs/Module2/images/SN_web_lightmode.png\" width=\"300\" alt=\"cognitiveclass.ai logo\"  />\n",
    "</center>\n"
   ]
  },
  {
   "cell_type": "markdown",
   "metadata": {},
   "source": [
    "#### Add your code below following the instructions given in the course\n"
   ]
  },
  {
   "cell_type": "markdown",
   "metadata": {},
   "source": [
    "# My Jupyter Notebook on IBM Watson Studio"
   ]
  },
  {
   "cell_type": "markdown",
   "metadata": {},
   "source": [
    "**Tess Sweeney**\n",
    "\n",
    "Political Scientist"
   ]
  },
  {
   "cell_type": "markdown",
   "metadata": {},
   "source": [
    "_I am interested in data science because I think I could help the world around me with these skills. For example, I am studying violence related to competition between armed groups and illicit economies in Colombia. Using data available about the number of armed groups in a region and the amount of illicit goods, a political scientist could predict where violence might happen next and prevent it. They could also assess the success of public policy interventions in violence rates. These are things that really inspire me because I believe data can inform policy and therefore make for better policy._"
   ]
  },
  {
   "cell_type": "markdown",
   "metadata": {},
   "source": [
    "### The Code Below should print \"Thanks for Reading!\""
   ]
  },
  {
   "cell_type": "code",
   "execution_count": 2,
   "metadata": {},
   "outputs": [
    {
     "name": "stdout",
     "output_type": "stream",
     "text": [
      "Thanks for Reading!\n"
     ]
    }
   ],
   "source": [
    "print('Thanks for Reading!')"
   ]
  },
  {
   "cell_type": "markdown",
   "metadata": {},
   "source": [
    "Here are my goals for the New Year: \n",
    "1. Start a new job that incorporates data science and political science.\n",
    "2. Save up for a new apartment.\n",
    "3. Get atleast 30 minutes of exercise everyday. \n",
    "\n",
    "These are my plans to accomplish these things:\n",
    "* Study Data Science 2 hours a day\n",
    "* Eat out only 1 day a week. Don't buy anything unneccesary. \n",
    "* Go to the gym M,W,F, and Sun in the morning before work. The other days I should go for a walk.\n",
    "\n",
    "Here is this information made into a table:\n",
    "|Goals|Plans|\n",
    "|----|----|\n",
    "|Start a new job| Study Data Science 2 hours a day|\n",
    "|Save up for a new apartment| Eat out only 1 day a week. Don't buy anything unneccesary|\n",
    "|Get atleast 30 minutes of exercise everyday.| Go to gym M,W, F, Sun. Go for a walk the other days|"
   ]
  },
  {
   "cell_type": "code",
   "execution_count": null,
   "metadata": {},
   "outputs": [],
   "source": []
  }
 ],
 "metadata": {
  "kernelspec": {
   "display_name": "Python",
   "language": "python",
   "name": "conda-env-python-py"
  },
  "language_info": {
   "codemirror_mode": {
    "name": "ipython",
    "version": 3
   },
   "file_extension": ".py",
   "mimetype": "text/x-python",
   "name": "python",
   "nbconvert_exporter": "python",
   "pygments_lexer": "ipython3",
   "version": "3.7.12"
  }
 },
 "nbformat": 4,
 "nbformat_minor": 4
}
