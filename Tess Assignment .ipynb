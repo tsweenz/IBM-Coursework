{
  "metadata": {
    "language_info": {
      "codemirror_mode": {
        "name": "python",
        "version": 3
      },
      "file_extension": ".py",
      "mimetype": "text/x-python",
      "name": "python",
      "nbconvert_exporter": "python",
      "pygments_lexer": "ipython3",
      "version": "3.8"
    },
    "kernelspec": {
      "name": "python",
      "display_name": "Python (Pyodide)",
      "language": "python"
    }
  },
  "nbformat_minor": 4,
  "nbformat": 4,
  "cells": [
    {
      "cell_type": "markdown",
      "source": "# My Jupyter Notebook on IBM Watson Studio",
      "metadata": {}
    },
    {
      "cell_type": "markdown",
      "source": "**Tess Sweeney**\n\nPolitical Scientist",
      "metadata": {}
    },
    {
      "cell_type": "markdown",
      "source": "_I am interested in data science because I think I could help the world around me with these skills. For example, I am studying violence related to competition between armed groups and illicit economies in Colombia. Using data available about the number of armed groups in a region and the amount of illicit goods, a political scientist could predict where violence might happen next and prevent it. They could also assess the success of public policy interventions in violence rates. These are things that really inspire me because I believe data can inform policy and therefore make for better policy._",
      "metadata": {}
    },
    {
      "cell_type": "markdown",
      "source": "### The Code Below should print \"Thanks for Reading!\"",
      "metadata": {}
    },
    {
      "cell_type": "code",
      "source": "print('Thanks for Reading!')",
      "metadata": {
        "trusted": true
      },
      "execution_count": 6,
      "outputs": [
        {
          "name": "stdout",
          "text": "Thanks for Reading!\n",
          "output_type": "stream"
        }
      ]
    },
    {
      "cell_type": "markdown",
      "source": "Here are my goals for the New Year: \n1. Start a new job that incorporates data science and political science.\n2. Save up for a new apartment.\n3. Get atleast 30 minutes of exercise everyday. \n\nThese are my plans to accomplish these things:\n* Study Data Science 2 hours a day\n* Eat out only 1 day a week. Don't buy anything unneccesary. \n* Go to the gym M,W,F, and Sun in the morning before work. The other days I should go for a walk.\n\nHere is this information made into a table:\n|Goals|Plans|\n|----|----|\n|Start a new job| Study Data Science 2 hours a day|\n|Save up for a new apartment| Eat out only 1 day a week. Don't buy anything unneccesary|\n|Get atleast 30 minutes of exercise everyday.| Go to gym M,W, F, Sun. Go for a walk the other days|",
      "metadata": {}
    },
    {
      "cell_type": "code",
      "source": "",
      "metadata": {},
      "execution_count": null,
      "outputs": []
    }
  ]
}